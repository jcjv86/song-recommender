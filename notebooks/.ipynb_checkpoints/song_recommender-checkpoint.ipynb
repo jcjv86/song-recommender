{
 "cells": [
  {
   "cell_type": "code",
   "execution_count": 1,
   "id": "6b17d974-59a6-4ef7-b6a9-72c22a16febe",
   "metadata": {},
   "outputs": [],
   "source": [
    "import pandas as pd\n",
    "import sys\n",
    "sys.path.insert(1, '/home/juan/Documents/')\n",
    "import sys\n",
    "import os\n",
    "import yaml\n",
    "import time\n",
    "import pickle\n",
    "from sklearn.preprocessing import StandardScaler\n",
    "from sklearn.cluster import KMeans\n",
    "from sklearn.metrics import silhouette_score\n",
    "from credentials import *\n",
    "import spotipy\n",
    "import json\n",
    "from spotipy.oauth2 import SpotifyClientCredentials\n",
    "from IPython.display import HTML\n",
    "\n",
    "sp = spotipy.Spotify(auth_manager=SpotifyClientCredentials(client_id= client_id,\n",
    "                                                           client_secret= client_secret))"
   ]
  },
  {
   "cell_type": "code",
   "execution_count": 2,
   "id": "dd78efdf-9f38-4814-8638-badcc122e239",
   "metadata": {
    "tags": []
   },
   "outputs": [],
   "source": [
    "with open (\"../config.yaml\", 'r') as file:\n",
    "    config = yaml.safe_load(file)"
   ]
  },
  {
   "cell_type": "code",
   "execution_count": 3,
   "id": "c14ebfae-8012-4d13-9cc4-0c46a050c2f0",
   "metadata": {},
   "outputs": [],
   "source": [
    "sys.path.insert(0, os.path.abspath(config['lib']))\n",
    "import functions as funk"
   ]
  },
  {
   "cell_type": "code",
   "execution_count": 4,
   "id": "50163ce2-5590-4bdf-a000-02bb19d017c0",
   "metadata": {},
   "outputs": [],
   "source": [
    "sys.path.insert(0, os.path.abspath(config['lib']))\n",
    "import functions as funk"
   ]
  },
  {
   "cell_type": "code",
   "execution_count": 5,
   "id": "6ad818b9-ebd9-4f79-878c-50961d665750",
   "metadata": {
    "tags": []
   },
   "outputs": [],
   "source": [
    "database = pd.read_csv(config['data']['cleaned']+'database.csv')"
   ]
  },
  {
   "cell_type": "code",
   "execution_count": 6,
   "id": "097e3c01-d437-4960-99a6-28b1e0084b6c",
   "metadata": {},
   "outputs": [
    {
     "name": "stdin",
     "output_type": "stream",
     "text": [
      "Please enter song title:  lust for life\n",
      "Please enter artist name:  iggy pop\n"
     ]
    },
    {
     "name": "stdout",
     "output_type": "stream",
     "text": [
      "\n",
      "1 .\n",
      "\n",
      "song name:  Lust For Life\n",
      "artist name:  Iggy Pop\n",
      "url:  https://open.spotify.com/track/21YxK0klhpfLW8budkJaMF\n",
      "\n",
      "2 .\n",
      "\n",
      "song name:  King Bob Omb\n",
      "artist name:  Goldroger\n",
      "url:  https://open.spotify.com/track/1QWWbHD8ZwPk9uT3W8WFSw\n",
      "\n",
      "3 .\n",
      "\n",
      "song name:  Lust For Life\n",
      "artist name:  Iggy Pop\n",
      "url:  https://open.spotify.com/track/0kvH59HS2T2m4bsXJhBGNC\n",
      "\n",
      "4 .\n",
      "\n",
      "song name:  Lust For Life (as made famous by Iggy Pop)\n",
      "artist name:  The Rock Heroes\n",
      "url:  https://open.spotify.com/track/5GBpZyw526YAtjZcawdvmf\n",
      "\n",
      "5 .\n",
      "\n",
      "song name:  The Passenger\n",
      "artist name:  Iggy Pop\n",
      "url:  https://open.spotify.com/track/15BQ7vEDv2LJuh8TxWIhtd\n",
      "\n"
     ]
    },
    {
     "name": "stdin",
     "output_type": "stream",
     "text": [
      "\n",
      "\n",
      "Which song would you prefer? Please enter a number from the list above: \n",
      " 1\n"
     ]
    },
    {
     "name": "stdout",
     "output_type": "stream",
     "text": [
      "\n",
      "\n",
      "Here are 5 similar songs to your selection: \n",
      "\n"
     ]
    },
    {
     "data": {
      "text/html": [
       "<table border=\"1\" class=\"dataframe\">\n",
       "  <thead>\n",
       "    <tr style=\"text-align: right;\">\n",
       "      <th></th>\n",
       "      <th>title</th>\n",
       "      <th>artist</th>\n",
       "      <th>url</th>\n",
       "    </tr>\n",
       "  </thead>\n",
       "  <tbody>\n",
       "    <tr>\n",
       "      <th>2301</th>\n",
       "      <td>Nobody Else But You</td>\n",
       "      <td>Trey Songz</td>\n",
       "      <td><a href=\"https://open.spotify.com/track/32JZPy6tu4UKlGoVyqaoSa\">https://open.spotify.com/track/32JZPy6tu4UKlGoVyqaoSa</a></td>\n",
       "    </tr>\n",
       "    <tr>\n",
       "      <th>1380</th>\n",
       "      <td>Book Of Rhymes</td>\n",
       "      <td>Eminem</td>\n",
       "      <td><a href=\"https://open.spotify.com/track/34xKCCufqJSuEjqXJ0RzRY\">https://open.spotify.com/track/34xKCCufqJSuEjqXJ0RzRY</a></td>\n",
       "    </tr>\n",
       "    <tr>\n",
       "      <th>1873</th>\n",
       "      <td>Gang Gang</td>\n",
       "      <td>Polo G</td>\n",
       "      <td><a href=\"https://open.spotify.com/track/2fULrwNmq6FsePDzDjQiWV\">https://open.spotify.com/track/2fULrwNmq6FsePDzDjQiWV</a></td>\n",
       "    </tr>\n",
       "    <tr>\n",
       "      <th>2149</th>\n",
       "      <td>Thought It Was</td>\n",
       "      <td>Iann Dior</td>\n",
       "      <td><a href=\"https://open.spotify.com/track/2MAizO4FEzoB7BzFCdshkE\">https://open.spotify.com/track/2MAizO4FEzoB7BzFCdshkE</a></td>\n",
       "    </tr>\n",
       "    <tr>\n",
       "      <th>472</th>\n",
       "      <td>Sex With My Ex</td>\n",
       "      <td>Lil Peep</td>\n",
       "      <td><a href=\"https://open.spotify.com/track/4R0wmsPPh4ykxTidxkh8wZ\">https://open.spotify.com/track/4R0wmsPPh4ykxTidxkh8wZ</a></td>\n",
       "    </tr>\n",
       "  </tbody>\n",
       "</table>"
      ],
      "text/plain": [
       "<IPython.core.display.HTML object>"
      ]
     },
     "metadata": {},
     "output_type": "display_data"
    }
   ],
   "source": [
    "funk.song_recommender(database)"
   ]
  },
  {
   "cell_type": "code",
   "execution_count": null,
   "id": "cd892d02-ed51-40b3-a4c1-2ad099daa0ef",
   "metadata": {},
   "outputs": [],
   "source": []
  }
 ],
 "metadata": {
  "kernelspec": {
   "display_name": "Python 3 (ipykernel)",
   "language": "python",
   "name": "python3"
  },
  "language_info": {
   "codemirror_mode": {
    "name": "ipython",
    "version": 3
   },
   "file_extension": ".py",
   "mimetype": "text/x-python",
   "name": "python",
   "nbconvert_exporter": "python",
   "pygments_lexer": "ipython3",
   "version": "3.9.13"
  }
 },
 "nbformat": 4,
 "nbformat_minor": 5
}
