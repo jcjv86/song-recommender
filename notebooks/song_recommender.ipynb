{
 "cells": [
  {
   "cell_type": "markdown",
   "id": "cb9b6cc6-0eea-4c4e-853f-0a2656b50492",
   "metadata": {},
   "source": [
    "![alternative text](../src/img/logo_back.png)"
   ]
  },
  {
   "cell_type": "markdown",
   "id": "8a866a8c-8e68-473a-8dd5-4ad408d609b6",
   "metadata": {
    "tags": []
   },
   "source": [
    "#### The song recommender"
   ]
  },
  {
   "cell_type": "markdown",
   "id": "d834ed16-9ba0-4b8d-a80d-46a51c5013d2",
   "metadata": {},
   "source": [
    "###### Brought to you by Cristian, Aparna and Juan"
   ]
  },
  {
   "cell_type": "code",
   "execution_count": null,
   "id": "6b17d974-59a6-4ef7-b6a9-72c22a16febe",
   "metadata": {
    "jupyter": {
     "source_hidden": true
    },
    "tags": []
   },
   "outputs": [],
   "source": [
    "import pandas as pd\n",
    "import sys\n",
    "sys.path.insert(1, '/home/juan/Documents/')\n",
    "import os\n",
    "import warnings\n",
    "warnings.simplefilter('ignore')\n",
    "import yaml\n",
    "import time\n",
    "import pickle\n",
    "from sklearn.preprocessing import StandardScaler\n",
    "from sklearn.cluster import KMeans\n",
    "from sklearn.metrics import silhouette_score\n",
    "from credentials import *\n",
    "import spotipy\n",
    "import json\n",
    "from spotipy.oauth2 import SpotifyClientCredentials\n",
    "from IPython.display import HTML\n",
    "import matplotlib.pyplot as plt\n",
    "import pandas as pd\n",
    "from math import pi\n",
    "sp = spotipy.Spotify(auth_manager=SpotifyClientCredentials(client_id= client_id,\n",
    "                                                           client_secret= client_secret))"
   ]
  },
  {
   "cell_type": "code",
   "execution_count": null,
   "id": "dd78efdf-9f38-4814-8638-badcc122e239",
   "metadata": {
    "jupyter": {
     "source_hidden": true
    },
    "tags": []
   },
   "outputs": [],
   "source": [
    "with open (\"../config.yaml\", 'r') as file:\n",
    "    config = yaml.safe_load(file)"
   ]
  },
  {
   "cell_type": "code",
   "execution_count": null,
   "id": "c14ebfae-8012-4d13-9cc4-0c46a050c2f0",
   "metadata": {
    "jupyter": {
     "source_hidden": true
    },
    "tags": []
   },
   "outputs": [],
   "source": [
    "sys.path.insert(0, os.path.abspath(config['lib']))\n",
    "import functions as funk"
   ]
  },
  {
   "cell_type": "code",
   "execution_count": null,
   "id": "50163ce2-5590-4bdf-a000-02bb19d017c0",
   "metadata": {
    "jupyter": {
     "source_hidden": true
    },
    "tags": []
   },
   "outputs": [],
   "source": [
    "sys.path.insert(0, os.path.abspath(config['lib']))\n",
    "import functions as funk"
   ]
  },
  {
   "cell_type": "code",
   "execution_count": null,
   "id": "6ad818b9-ebd9-4f79-878c-50961d665750",
   "metadata": {
    "jupyter": {
     "source_hidden": true
    },
    "tags": []
   },
   "outputs": [],
   "source": [
    "database = pd.read_csv(config['data']['cleaned']+'database.csv')"
   ]
  },
  {
   "cell_type": "code",
   "execution_count": null,
   "id": "097e3c01-d437-4960-99a6-28b1e0084b6c",
   "metadata": {
    "jupyter": {
     "source_hidden": true
    },
    "tags": []
   },
   "outputs": [],
   "source": [
    "funk.song_recommender(database)"
   ]
  }
 ],
 "metadata": {
  "kernelspec": {
   "display_name": "Python 3 (ipykernel)",
   "language": "python",
   "name": "python3"
  },
  "language_info": {
   "codemirror_mode": {
    "name": "ipython",
    "version": 3
   },
   "file_extension": ".py",
   "mimetype": "text/x-python",
   "name": "python",
   "nbconvert_exporter": "python",
   "pygments_lexer": "ipython3",
   "version": "3.9.13"
  }
 },
 "nbformat": 4,
 "nbformat_minor": 5
}
