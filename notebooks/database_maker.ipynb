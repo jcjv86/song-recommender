{
 "cells": [
  {
   "cell_type": "code",
   "execution_count": null,
   "id": "3faf0785-b664-4c80-bc14-a592b591f118",
   "metadata": {},
   "outputs": [],
   "source": [
    "import pandas as pd\n",
    "import numpy as np\n",
    "pd.options.mode.chained_assignment = None"
   ]
  },
  {
   "cell_type": "markdown",
   "id": "67e64d1e-ea4d-4566-ade3-75efcbcaca2d",
   "metadata": {},
   "source": [
    "## Combine Database with Hot Songs database"
   ]
  },
  {
   "cell_type": "code",
   "execution_count": null,
   "id": "ea501215-986b-4e39-b91a-5af9c281d8e2",
   "metadata": {},
   "outputs": [],
   "source": [
    "data = pd.read_csv('../data/cleaned/.csv')"
   ]
  },
  {
   "cell_type": "code",
   "execution_count": null,
   "id": "3663e48d-d00f-4c1d-963c-a97c52a66321",
   "metadata": {},
   "outputs": [],
   "source": [
    "hs = pd.read_csv('../data/cleaned/hs.csv')"
   ]
  },
  {
   "cell_type": "code",
   "execution_count": null,
   "id": "75ddde76-0f63-4ead-be30-8ec8dd29e25d",
   "metadata": {},
   "outputs": [],
   "source": [
    "data['source'] = 'N'"
   ]
  },
  {
   "cell_type": "code",
   "execution_count": null,
   "id": "640b0570-6cae-49ff-97ab-ef74d027a286",
   "metadata": {},
   "outputs": [],
   "source": [
    "data.drop(['type'], axis=1, inplace=True)"
   ]
  },
  {
   "cell_type": "code",
   "execution_count": null,
   "id": "93e02823-b5cf-4bc6-bc0d-a36aa784a465",
   "metadata": {},
   "outputs": [],
   "source": [
    "data['tempo']=round(data['tempo'],0)\n",
    "data['tempo'] = data['tempo'].astype(int)"
   ]
  },
  {
   "cell_type": "code",
   "execution_count": null,
   "id": "d5113dad-91ce-473c-8a9f-16d6aaf45eb7",
   "metadata": {},
   "outputs": [],
   "source": [
    "database = pd.concat([data, hs], axis=0)"
   ]
  },
  {
   "cell_type": "code",
   "execution_count": null,
   "id": "077e1bda-6462-4a52-9509-15d54fb2972e",
   "metadata": {},
   "outputs": [],
   "source": [
    "database.drop_duplicates(inplace=True)"
   ]
  },
  {
   "cell_type": "code",
   "execution_count": null,
   "id": "9a7bc9de-6a7e-4deb-8f59-1c81fc76bb6f",
   "metadata": {},
   "outputs": [],
   "source": [
    "database.reset_index(drop=True)\n",
    "database"
   ]
  },
  {
   "cell_type": "code",
   "execution_count": null,
   "id": "ca5430ff-4697-4be8-96f6-e3781ffec9dc",
   "metadata": {},
   "outputs": [],
   "source": [
    "database.to_csv('../data/cleaned/.csv', index=False)"
   ]
  },
  {
   "cell_type": "markdown",
   "id": "543d565c-da4d-421b-b955-db01fc9d8511",
   "metadata": {},
   "source": [
    "#"
   ]
  },
  {
   "cell_type": "markdown",
   "id": "019bac7d-14ec-4e43-a09f-542d969fa04c",
   "metadata": {},
   "source": [
    "## To combine it with another already processed DB:"
   ]
  },
  {
   "cell_type": "code",
   "execution_count": null,
   "id": "eed21798-65a9-4add-aa86-18ab6466c840",
   "metadata": {},
   "outputs": [],
   "source": [
    "data = pd.read_csv('../data/cleaned/.csv')"
   ]
  },
  {
   "cell_type": "code",
   "execution_count": null,
   "id": "6af6c913-a201-4c64-bf9f-ea6fdc17a459",
   "metadata": {},
   "outputs": [],
   "source": [
    "data2 = pd.read_csv('../data/cleaned/.csv')"
   ]
  },
  {
   "cell_type": "code",
   "execution_count": null,
   "id": "a7c20561-f2e1-4a97-8599-9d3db5372b28",
   "metadata": {},
   "outputs": [],
   "source": [
    "data2['tempo']=round(data2['tempo'],0)\n",
    "data2['tempo'] = data2['tempo'].astype(int)"
   ]
  },
  {
   "cell_type": "code",
   "execution_count": null,
   "id": "3093b80e-d021-4832-9bb8-7783fdedc892",
   "metadata": {},
   "outputs": [],
   "source": [
    "database = pd.concat([data, data2], axis=0)"
   ]
  },
  {
   "cell_type": "code",
   "execution_count": null,
   "id": "bb17feb8-0030-4d62-8df6-d9991cbdc17e",
   "metadata": {},
   "outputs": [],
   "source": [
    "database.drop_duplicates(inplace=True)"
   ]
  },
  {
   "cell_type": "code",
   "execution_count": null,
   "id": "62b18b0b-053f-4fb0-85c4-ce2a9baa45a6",
   "metadata": {},
   "outputs": [],
   "source": [
    "database.reset_index(drop=True)"
   ]
  },
  {
   "cell_type": "code",
   "execution_count": null,
   "id": "fc5f3bdb-ba90-4cee-8b12-678076437de4",
   "metadata": {},
   "outputs": [],
   "source": [
    "database.to_csv('../data/cleaned/.csv', index=False)"
   ]
  },
  {
   "cell_type": "code",
   "execution_count": null,
   "id": "4849a82e-2d0d-48cd-8171-b069f2c6956e",
   "metadata": {},
   "outputs": [],
   "source": []
  }
 ],
 "metadata": {
  "kernelspec": {
   "display_name": "Python 3 (ipykernel)",
   "language": "python",
   "name": "python3"
  },
  "language_info": {
   "codemirror_mode": {
    "name": "ipython",
    "version": 3
   },
   "file_extension": ".py",
   "mimetype": "text/x-python",
   "name": "python",
   "nbconvert_exporter": "python",
   "pygments_lexer": "ipython3",
   "version": "3.10.10"
  }
 },
 "nbformat": 4,
 "nbformat_minor": 5
}
